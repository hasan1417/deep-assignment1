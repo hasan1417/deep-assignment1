{
 "cells": [
  {
   "cell_type": "markdown",
   "id": "0dc916c3-8c14-4086-9393-5406fd219624",
   "metadata": {},
   "source": [
    "#### 1. Load the dataset"
   ]
  },
  {
   "cell_type": "code",
   "execution_count": 9,
   "id": "032c51fa-f061-46b9-9ef4-7b3c6148058c",
   "metadata": {},
   "outputs": [],
   "source": [
    "import pandas as pd\n",
    "from ucimlrepo import fetch_ucirepo\n",
    "\n",
    "# Fetch the dataset (Statlog Vehicle Silhouettes)\n",
    "vehicle_data = fetch_ucirepo(id=149)\n",
    "\n",
    "# Features and target\n",
    "X = vehicle_data.data.features\n",
    "y = vehicle_data.data.targets\n",
    "\n",
    "# Set the random seed for reproducibility\n",
    "np.random.seed(777)\n"
   ]
  },
  {
   "cell_type": "markdown",
   "id": "4a9dae21-33cc-41d3-b07a-5796d7274f02",
   "metadata": {},
   "source": [
    "#### 2. Preprocess the Dataset"
   ]
  },
  {
   "cell_type": "code",
   "execution_count": 16,
   "id": "10843fc0-fdc0-4d44-b87a-bb52e07b599e",
   "metadata": {},
   "outputs": [],
   "source": [
    "from sklearn.model_selection import train_test_split\n",
    "from sklearn.preprocessing import StandardScaler, LabelEncoder\n",
    "import numpy as np\n",
    "\n",
    "# Remove the class with 1 instance (class '204')\n",
    "valid_classes = y['class'].value_counts()[lambda x: x > 1].index\n",
    "mask = y['class'].isin(valid_classes)\n",
    "\n",
    "X_filtered = X[mask].to_numpy()\n",
    "y_filtered = y[mask].to_numpy().ravel()\n",
    "\n",
    "# Encode labels\n",
    "label_encoder = LabelEncoder()\n",
    "y_encoded = label_encoder.fit_transform(y_filtered)\n",
    "\n",
    "# Train (70%), Temp (30%)\n",
    "X_train, X_temp, y_train, y_temp = train_test_split(\n",
    "    X_filtered, y_encoded, test_size=0.3, random_state=777, stratify=y_encoded\n",
    ")\n",
    "\n",
    "# Validation (15%), Test (15%)\n",
    "X_val, X_test, y_val, y_test = train_test_split(\n",
    "    X_temp, y_temp, test_size=0.5, random_state=777, stratify=y_temp\n",
    ")\n",
    "\n",
    "# Feature scaling (important!)\n",
    "scaler = StandardScaler()\n",
    "X_train = scaler.fit_transform(X_train)\n",
    "X_val = scaler.transform(X_val)\n",
    "X_test = scaler.transform(X_test)\n"
   ]
  },
  {
   "cell_type": "markdown",
   "id": "6829c332-8b32-4db7-8c2d-d30e58078fbe",
   "metadata": {},
   "source": [
    "#### 2. Neural Network Architecture"
   ]
  },
  {
   "cell_type": "code",
   "execution_count": 17,
   "id": "9328d8bc-66be-4aaa-b4b3-5083a80953e0",
   "metadata": {},
   "outputs": [],
   "source": [
    "# Example neural network dimensions\n",
    "input_dim = X_train.shape[1]\n",
    "hidden_dim = 64\n",
    "output_dim = len(np.unique(y_train))\n",
    "\n",
    "# Weight initialization (from scratch)\n",
    "np.random.seed(777)\n",
    "W1 = np.random.randn(input_dim, hidden_dim) * 0.01\n",
    "b1 = np.zeros((1, hidden_dim))\n",
    "\n",
    "W2 = np.random.randn(hidden_dim, output_dim) * 0.01\n",
    "b2 = np.zeros((1, output_dim))\n",
    "\n",
    "# Activation functions\n",
    "def sigmoid(z):\n",
    "    return 1 / (1 + np.exp(-z))\n",
    "\n",
    "def softmax(z):\n",
    "    exp_z = np.exp(z - np.max(z, axis=1, keepdims=True))\n",
    "    return exp_z / np.sum(exp_z, axis=1, keepdims=True)\n",
    "\n",
    "# Forward propagation\n",
    "def forward_propagation(X, W1, b1, W2, b2):\n",
    "    Z1 = np.dot(X, W1) + b1\n",
    "    A1 = sigmoid(Z1)  # or ReLU(Z1) if implemented in your notebook\n",
    "    Z2 = np.dot(A1, W2) + b2\n",
    "    A2 = softmax(Z2)\n",
    "    return A1, A2\n",
    "\n",
    "# Loss (Cross-Entropy)\n",
    "def cross_entropy_loss(y_true, y_pred):\n",
    "    m = y_true.shape[0]\n",
    "    log_probs = -np.log(y_pred[range(m), y_true] + 1e-9)\n",
    "    loss = np.sum(log_probs) / m\n",
    "    return loss\n",
    "\n",
    "# Backward propagation and gradient descent\n",
    "def backward_propagation(X, y_true, A1, A2, W2):\n",
    "    m = X.shape[0]\n",
    "\n",
    "    dZ2 = A2\n",
    "    dZ2[range(m), y_true] -= 1\n",
    "    dZ2 /= m\n",
    "\n",
    "    dW2 = np.dot(A1.T, dZ2)\n",
    "    db2 = np.sum(dZ2, axis=0, keepdims=True)\n",
    "\n",
    "    dA1 = np.dot(dZ2, W2.T)\n",
    "    dZ1 = dA1 * A1 * (1 - A1)  # derivative of sigmoid\n",
    "\n",
    "    dW1 = np.dot(X.T, dZ1)\n",
    "    db1 = np.sum(dZ1, axis=0, keepdims=True)\n",
    "\n",
    "    return dW1, db1, dW2, db2\n",
    "\n",
    "# Update weights\n",
    "def update_weights(W1, b1, W2, b2, dW1, db1, dW2, db2, learning_rate=0.1):\n",
    "    W1 -= learning_rate * dW1\n",
    "    b1 -= learning_rate * db1\n",
    "    W2 -= learning_rate * dW2\n",
    "    b2 -= learning_rate * db2\n",
    "    return W1, b1, W2, b2\n"
   ]
  },
  {
   "cell_type": "markdown",
   "id": "e5b8ed79-fa78-4745-a391-35ee5d4e2a63",
   "metadata": {},
   "source": [
    "#### 3. Training"
   ]
  },
  {
   "cell_type": "code",
   "execution_count": 18,
   "id": "f25d3ff7-afe5-4d26-b0d9-e1112a9fba63",
   "metadata": {},
   "outputs": [
    {
     "name": "stdout",
     "output_type": "stream",
     "text": [
      "Epoch 0, Loss: 1.3861\n",
      "Epoch 100, Loss: 1.3733\n",
      "Epoch 200, Loss: 1.2895\n",
      "Epoch 300, Loss: 1.1919\n",
      "Epoch 400, Loss: 1.0749\n",
      "Epoch 500, Loss: 0.9558\n",
      "Epoch 600, Loss: 0.8526\n",
      "Epoch 700, Loss: 0.7754\n",
      "Epoch 800, Loss: 0.7201\n",
      "Epoch 900, Loss: 0.6789\n"
     ]
    }
   ],
   "source": [
    "epochs = 1000\n",
    "learning_rate = 0.1\n",
    "\n",
    "for epoch in range(epochs):\n",
    "    A1, A2 = forward_propagation(X_train, W1, b1, W2, b2)\n",
    "    loss = cross_entropy_loss(y_train, A2)\n",
    "    \n",
    "    dW1, db1, dW2, db2 = backward_propagation(X_train, y_train, A1, A2, W2)\n",
    "    W1, b1, W2, b2 = update_weights(W1, b1, W2, b2, dW1, db1, dW2, db2, learning_rate)\n",
    "\n",
    "    if epoch % 100 == 0:\n",
    "        print(f'Epoch {epoch}, Loss: {loss:.4f}')\n"
   ]
  },
  {
   "cell_type": "markdown",
   "id": "49da4db1-85ad-4b6f-acbb-5ac4869a0b64",
   "metadata": {},
   "source": [
    "#### 4. Evaluation"
   ]
  },
  {
   "cell_type": "code",
   "execution_count": 19,
   "id": "1d69cc81-e7f9-4cec-ae31-e091f29a9810",
   "metadata": {},
   "outputs": [
    {
     "name": "stdout",
     "output_type": "stream",
     "text": [
      "              precision    recall  f1-score   support\n",
      "\n",
      "         bus       0.76      0.88      0.81        32\n",
      "        opel       0.70      0.44      0.54        32\n",
      "        saab       0.69      0.73      0.71        33\n",
      "         van       0.83      0.97      0.89        30\n",
      "\n",
      "    accuracy                           0.75       127\n",
      "   macro avg       0.74      0.75      0.74       127\n",
      "weighted avg       0.74      0.75      0.73       127\n",
      "\n"
     ]
    },
    {
     "data": {
      "image/png": "[encoded data removed]",
      "text/plain": [
       "<Figure size 800x600 with 2 Axes>"
      ]
     },
     "metadata": {},
     "output_type": "display_data"
    }
   ],
   "source": [
    "# Prediction function\n",
    "def predict(X, W1, b1, W2, b2):\n",
    "    _, A2 = forward_propagation(X, W1, b1, W2, b2)\n",
    "    return np.argmax(A2, axis=1)\n",
    "\n",
    "y_pred = predict(X_test, W1, b1, W2, b2)\n",
    "\n",
    "from sklearn.metrics import classification_report, confusion_matrix\n",
    "import matplotlib.pyplot as plt\n",
    "import seaborn as sns\n",
    "\n",
    "# Metrics\n",
    "print(classification_report(y_test, y_pred, target_names=label_encoder.classes_))\n",
    "\n",
    "# Confusion Matrix\n",
    "cm = confusion_matrix(y_test, y_pred)\n",
    "plt.figure(figsize=(8, 6))\n",
    "sns.heatmap(cm, annot=True, fmt='d', xticklabels=label_encoder.classes_, yticklabels=label_encoder.classes_)\n",
    "plt.ylabel('Actual')\n",
    "plt.xlabel('Predicted')\n",
    "plt.title('Confusion Matrix')\n",
    "plt.show()\n"
   ]
  },
  {
   "cell_type": "code",
   "execution_count": null,
   "id": "c4dec596-3943-446c-971f-fe08f691477b",
   "metadata": {},
   "outputs": [],
   "source": []
  }
 ],
 "metadata": {
  "kernelspec": {
   "display_name": "Python 3 (ipykernel)",
   "language": "python",
   "name": "python3"
  },
  "language_info": {
   "codemirror_mode": {
    "name": "ipython",
    "version": 3
   },
   "file_extension": ".py",
   "mimetype": "text/x-python",
   "name": "python",
   "nbconvert_exporter": "python",
   "pygments_lexer": "ipython3",
   "version": "3.12.5"
  }
 },
 "nbformat": 4,
 "nbformat_minor": 5
}
